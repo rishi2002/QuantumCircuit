{
 "cells": [
  {
   "cell_type": "code",
   "execution_count": 25,
   "metadata": {},
   "outputs": [],
   "source": [
    "import qiskit as q\n",
    "%matplotlib inline"
   ]
  },
  {
   "cell_type": "markdown",
   "metadata": {},
   "source": [
    "## Summing 3 qubits (a, b and c) using a quantum circuit"
   ]
  },
  {
   "cell_type": "markdown",
   "metadata": {},
   "source": [
    "Initilizing the values of a, b and c.\n",
    "These should be either 0 or 1"
   ]
  },
  {
   "cell_type": "markdown",
   "metadata": {},
   "source": [
    "We have chosen to perform 1+0+1"
   ]
  },
  {
   "cell_type": "code",
   "execution_count": 44,
   "metadata": {
    "scrolled": true
   },
   "outputs": [],
   "source": [
    "a = 1\n",
    "b = 0\n",
    "c = 1"
   ]
  },
  {
   "cell_type": "markdown",
   "metadata": {},
   "source": [
    "Defining the quantum circuit on qiskit"
   ]
  },
  {
   "cell_type": "code",
   "execution_count": 45,
   "metadata": {},
   "outputs": [
    {
     "name": "stdout",
     "output_type": "stream",
     "text": [
      "     ┌───┐                                    \n",
      "q_0: ┤ X ├──■──────────────■────■─────────────\n",
      "     └───┘  │              │    │             \n",
      "q_1: ───────┼────■─────────■────┼───────■─────\n",
      "     ┌───┐  │    │         │    │       │     \n",
      "q_2: ┤ X ├──┼────┼────■────┼────■───────■─────\n",
      "     └───┘┌─┴─┐┌─┴─┐┌─┴─┐  │    │  ┌─┐  │     \n",
      "q_3: ─────┤ X ├┤ X ├┤ X ├──┼────┼──┤M├──┼─────\n",
      "          └───┘└───┘└───┘┌─┴─┐┌─┴─┐└╥┘┌─┴─┐┌─┐\n",
      "q_4: ────────────────────┤ X ├┤ X ├─╫─┤ X ├┤M├\n",
      "                         └───┘└───┘ ║ └───┘└╥┘\n",
      "c_0: ═══════════════════════════════╩═══════╬═\n",
      "                                            ║ \n",
      "c_1: ═══════════════════════════════════════╩═\n",
      "                                              \n"
     ]
    }
   ],
   "source": [
    "#Initilizing the circuit\n",
    "circuit = q.QuantumCircuit(5,2)\n",
    "\n",
    "#Initilizing the qubits\n",
    "if a==1:\n",
    "    circuit.x(0)\n",
    "if b==1:\n",
    "    circuit.x(1)  \n",
    "if c==1:\n",
    "    circuit.x(2)\n",
    "    \n",
    "#Implementing Controlled Not gates    \n",
    "circuit.cx(0,3)\n",
    "circuit.cx(1,3)\n",
    "circuit.cx(2,3)\n",
    "circuit.ccx(0,1,4)\n",
    "circuit.ccx(0,2,4)\n",
    "circuit.ccx(1,2,4)\n",
    "\n",
    "#Mapping the qubits to conventional bits\n",
    "circuit.measure(3,0)\n",
    "circuit.measure(4,1)\n",
    "\n",
    "print(circuit)"
   ]
  },
  {
   "cell_type": "markdown",
   "metadata": {},
   "source": [
    "Simulating the circuit on local machine"
   ]
  },
  {
   "cell_type": "code",
   "execution_count": 46,
   "metadata": {},
   "outputs": [
    {
     "name": "stdout",
     "output_type": "stream",
     "text": [
      "Job Status: job has successfully run\n"
     ]
    }
   ],
   "source": [
    "from qiskit.tools.monitor import job_monitor\n",
    "from qiskit import Aer\n",
    "\n",
    "backend = Aer.get_backend(\"qasm_simulator\")\n",
    "job = q.execute(circuit, backend=backend, shots=500)\n",
    "job_monitor(job)"
   ]
  },
  {
   "cell_type": "markdown",
   "metadata": {},
   "source": [
    "Plotting the results, real quantum computers have noise, however since we are simulating an ideal quantum computer all the 500 iterations have the same output"
   ]
  },
  {
   "cell_type": "code",
   "execution_count": 47,
   "metadata": {},
   "outputs": [
    {
     "data": {
      "image/png": "[encoded data removed]",
      "text/plain": [
       "<Figure size 504x360 with 1 Axes>"
      ]
     },
     "execution_count": 47,
     "metadata": {},
     "output_type": "execute_result"
    }
   ],
   "source": [
    "from qiskit.visualization import plot_histogram\n",
    "\n",
    "result = job.result()\n",
    "counts = result.get_counts(circuit)\n",
    "\n",
    "plot_histogram([counts], legend=['Device'])"
   ]
  },
  {
   "cell_type": "code",
   "execution_count": 48,
   "metadata": {},
   "outputs": [
    {
     "name": "stdout",
     "output_type": "stream",
     "text": [
      "The obtained sum is: 2\n"
     ]
    }
   ],
   "source": [
    "for i in counts:\n",
    "    num0=int(i[1])\n",
    "    num1=int(i[0])\n",
    "    sum = num0+2*num1\n",
    "    print('The obtained sum is: '+str(sum))"
   ]
  },
  {
   "cell_type": "markdown",
   "metadata": {},
   "source": [
    "## Simultaenously performing 2 addtion operations on 3 qubits"
   ]
  },
  {
   "cell_type": "markdown",
   "metadata": {},
   "source": [
    "We will simultaneously perform 1+1+1 and 0+1+1"
   ]
  },
  {
   "cell_type": "code",
   "execution_count": 49,
   "metadata": {
    "scrolled": true
   },
   "outputs": [],
   "source": [
    "b=1\n",
    "c=1"
   ]
  },
  {
   "cell_type": "markdown",
   "metadata": {},
   "source": [
    "Defining the quantum circuit on qiskit\n"
   ]
  },
  {
   "cell_type": "code",
   "execution_count": 32,
   "metadata": {},
   "outputs": [
    {
     "name": "stdout",
     "output_type": "stream",
     "text": [
      "     ┌───┐                                    \n",
      "q_0: ┤ H ├──■──────────────■────■─────────────\n",
      "     ├───┤  │              │    │             \n",
      "q_1: ┤ X ├──┼────■─────────■────┼───────■─────\n",
      "     ├───┤  │    │         │    │       │     \n",
      "q_2: ┤ X ├──┼────┼────■────┼────■───────■─────\n",
      "     └───┘┌─┴─┐┌─┴─┐┌─┴─┐  │    │  ┌─┐  │     \n",
      "q_3: ─────┤ X ├┤ X ├┤ X ├──┼────┼──┤M├──┼─────\n",
      "          └───┘└───┘└───┘┌─┴─┐┌─┴─┐└╥┘┌─┴─┐┌─┐\n",
      "q_4: ────────────────────┤ X ├┤ X ├─╫─┤ X ├┤M├\n",
      "                         └───┘└───┘ ║ └───┘└╥┘\n",
      "c_0: ═══════════════════════════════╩═══════╬═\n",
      "                                            ║ \n",
      "c_1: ═══════════════════════════════════════╩═\n",
      "                                              \n"
     ]
    }
   ],
   "source": [
    "#Initilizing the circuit\n",
    "circuit = q.QuantumCircuit(5,2)\n",
    "\n",
    "#Initilizing the qubits\n",
    "circuit.h(0)\n",
    "if b==1:\n",
    "    circuit.x(1)   \n",
    "if c==1:\n",
    "    circuit.x(2)\n",
    "    \n",
    "#Implementing Controlled Not gates    \n",
    "circuit.cx(0,3)\n",
    "circuit.cx(1,3)\n",
    "circuit.cx(2,3)\n",
    "circuit.ccx(0,1,4)\n",
    "circuit.ccx(0,2,4)\n",
    "circuit.ccx(1,2,4)\n",
    "\n",
    "#Mapping the qubits to conventional bits\n",
    "circuit.measure(3,0)\n",
    "circuit.measure(4,1)\n",
    "\n",
    "print(circuit)"
   ]
  },
  {
   "cell_type": "markdown",
   "metadata": {},
   "source": [
    "Simulating the circuit on local machine"
   ]
  },
  {
   "cell_type": "code",
   "execution_count": 33,
   "metadata": {},
   "outputs": [
    {
     "name": "stdout",
     "output_type": "stream",
     "text": [
      "Job Status: job has successfully run\n"
     ]
    }
   ],
   "source": [
    "from qiskit.tools.monitor import job_monitor\n",
    "from qiskit import Aer\n",
    "\n",
    "backend = Aer.get_backend('qasm_simulator')\n",
    "job = q.execute(circuit, backend=backend, shots=500)\n",
    "job_monitor(job)"
   ]
  },
  {
   "cell_type": "markdown",
   "metadata": {},
   "source": [
    "Plotting the results (histogram)"
   ]
  },
  {
   "cell_type": "code",
   "execution_count": 34,
   "metadata": {},
   "outputs": [
    {
     "data": {
      "image/png": "[encoded data removed]",
      "text/plain": [
       "<Figure size 504x360 with 1 Axes>"
      ]
     },
     "execution_count": 34,
     "metadata": {},
     "output_type": "execute_result"
    }
   ],
   "source": [
    "from qiskit.visualization import plot_histogram\n",
    "\n",
    "result = job.result()\n",
    "counts2 = result.get_counts(circuit)\n",
    "\n",
    "plot_histogram([counts2], legend=['Device'])"
   ]
  },
  {
   "cell_type": "code",
   "execution_count": 38,
   "metadata": {},
   "outputs": [
    {
     "name": "stdout",
     "output_type": "stream",
     "text": [
      "The obtained sums are-\n",
      "2\n",
      "3\n"
     ]
    }
   ],
   "source": [
    "print('The obtained sums are-')\n",
    "for i in counts2:\n",
    "    num0=int(i[1])\n",
    "    num1=int(i[0])\n",
    "    sum = num0+2*num1\n",
    "    print(sum)"
   ]
  },
  {
   "cell_type": "markdown",
   "metadata": {},
   "source": [
    "## Running a quantum circuit on a real quantum computer"
   ]
  },
  {
   "cell_type": "code",
   "execution_count": 10,
   "metadata": {
    "scrolled": true
   },
   "outputs": [],
   "source": [
    "a = 1\n",
    "b = 0\n",
    "c = 1"
   ]
  },
  {
   "cell_type": "code",
   "execution_count": 3,
   "metadata": {},
   "outputs": [
    {
     "name": "stdout",
     "output_type": "stream",
     "text": [
      "     ┌───┐                                    \n",
      "q_0: ┤ X ├──■──────────────■────■─────────────\n",
      "     └───┘  │              │    │             \n",
      "q_1: ───────┼────■─────────■────┼───────■─────\n",
      "     ┌───┐  │    │         │    │       │     \n",
      "q_2: ┤ X ├──┼────┼────■────┼────■───────■─────\n",
      "     └───┘┌─┴─┐┌─┴─┐┌─┴─┐  │    │  ┌─┐  │     \n",
      "q_3: ─────┤ X ├┤ X ├┤ X ├──┼────┼──┤M├──┼─────\n",
      "          └───┘└───┘└───┘┌─┴─┐┌─┴─┐└╥┘┌─┴─┐┌─┐\n",
      "q_4: ────────────────────┤ X ├┤ X ├─╫─┤ X ├┤M├\n",
      "                         └───┘└───┘ ║ └───┘└╥┘\n",
      "c_0: ═══════════════════════════════╩═══════╬═\n",
      "                                            ║ \n",
      "c_1: ═══════════════════════════════════════╩═\n",
      "                                              \n"
     ]
    }
   ],
   "source": [
    "circuit = q.QuantumCircuit(5,2)\n",
    "\n",
    "if a==1:\n",
    "    circuit.x(0)\n",
    "\n",
    "if b==1:\n",
    "    circuit.x(1)\n",
    "    \n",
    "if c==1:\n",
    "    circuit.x(2)\n",
    "    \n",
    "    \n",
    "circuit.cx(0,3)\n",
    "circuit.cx(1,3)\n",
    "circuit.cx(2,3)\n",
    "circuit.ccx(0,1,4)\n",
    "circuit.ccx(0,2,4)\n",
    "circuit.ccx(1,2,4)\n",
    "\n",
    "circuit.measure(3,0)\n",
    "circuit.measure(4,1)\n",
    "print(circuit)"
   ]
  },
  {
   "cell_type": "code",
   "execution_count": 4,
   "metadata": {},
   "outputs": [
    {
     "name": "stderr",
     "output_type": "stream",
     "text": [
      "configrc.store_credentials:WARNING:2022-11-04 17:03:20,099: Credentials already present. Set overwrite=True to overwrite.\n"
     ]
    },
    {
     "name": "stdout",
     "output_type": "stream",
     "text": [
      "Job Status: job has successfully run\n"
     ]
    }
   ],
   "source": [
    "from qiskit.tools.monitor import job_monitor\n",
    "from qiskit import Aer\n",
    "\n",
    "from qiskit import IBMQ\n",
    "IBMQ.save_account('f7d70985f40116f6a55e93ab31d29333586c73233754e25c808e8ef1557b5eb0ac02e2d349ac58f9eb6fed23f42d7b19e63afe8f035eccd99d8c256d75d94622')\n",
    "\n",
    "IBMQ.load_account()\n",
    "provider = IBMQ.get_provider('ibm-q')\n",
    "\n",
    "backend = provider.get_backend(\"ibmq_manila\")\n",
    "job = q.execute(circuit, backend=backend, shots=500)\n",
    "job_monitor(job)"
   ]
  },
  {
   "cell_type": "code",
   "execution_count": 5,
   "metadata": {
    "scrolled": true
   },
   "outputs": [
    {
     "data": {
      "image/png": "[encoded data removed]",
      "text/plain": [
       "<Figure size 504x360 with 1 Axes>"
      ]
     },
     "execution_count": 5,
     "metadata": {},
     "output_type": "execute_result"
    }
   ],
   "source": [
    "from qiskit.visualization import plot_histogram\n",
    "\n",
    "result = job.result()\n",
    "counts = result.get_counts(circuit)\n",
    "\n",
    "plot_histogram([counts], legend=['Device'])"
   ]
  },
  {
   "cell_type": "markdown",
   "metadata": {},
   "source": [
    "As we can see the obtained output is 10 (in binary), which is 2 when converted to decimal.\n",
    "Our results are noisy due to imperfections in real quantum computers."
   ]
  },
  {
   "cell_type": "code",
   "execution_count": null,
   "metadata": {},
   "outputs": [],
   "source": []
  }
 ],
 "metadata": {
  "kernelspec": {
   "display_name": "Python 3",
   "language": "python",
   "name": "python3"
  },
  "language_info": {
   "codemirror_mode": {
    "name": "ipython",
    "version": 3
   },
   "file_extension": ".py",
   "mimetype": "text/x-python",
   "name": "python",
   "nbconvert_exporter": "python",
   "pygments_lexer": "ipython3",
   "version": "3.8.3"
  }
 },
 "nbformat": 4,
 "nbformat_minor": 5
}
